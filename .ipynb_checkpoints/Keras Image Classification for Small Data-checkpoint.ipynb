{
 "cells": [
  {
   "cell_type": "markdown",
   "metadata": {},
   "source": [
    "# Keras Image Classification for Small Data"
   ]
  },
  {
   "cell_type": "markdown",
   "metadata": {},
   "source": [
    "This notebook uses the Keras framework to train an image classifier using a small dataset.\n",
    "\n",
    "Source: https://blog.keras.io/building-powerful-image-classification-models-using-very-little-data.html"
   ]
  },
  {
   "cell_type": "markdown",
   "metadata": {},
   "source": [
    "## Packages"
   ]
  },
  {
   "cell_type": "code",
   "execution_count": 10,
   "metadata": {},
   "outputs": [],
   "source": [
    "import os # for data prep\n",
    "import shutil # for data prep\n",
    "import re #for data prep"
   ]
  },
  {
   "cell_type": "markdown",
   "metadata": {},
   "source": [
    "The lastest version of Keras does somehow not work on GCP Datalab. \n",
    "This configuration works:"
   ]
  },
  {
   "cell_type": "code",
   "execution_count": null,
   "metadata": {},
   "outputs": [],
   "source": [
    "!pip install click==6.7\n",
    "!pip install Flask==0.12\n",
    "!pip install Cython==0.25.2\n",
    "!pip install funcsigs==1.0.2\n",
    "!pip install h5py==2.6.0\n",
    "!pip install itsdangerous==0.24\n",
    "!pip install Jinja2==2.9.4\n",
    "!pip install Keras==1.2.1\n",
    "!pip install MarkupSafe==0.23\n",
    "!pip install mock==2.0.0\n",
    "!pip install numpy==1.12.0\n",
    "!pip install olefile==0.44\n",
    "!pip install pbr==1.10.0\n",
    "!pip install Pillow==4.0.0\n",
    "!pip install protobuf==3.1.0.post1\n",
    "!pip install PyYAML==3.12\n",
    "!pip install scipy==0.18.1\n",
    "!pip install six==1.10.0\n",
    "!pip install tensorflow==0.12.1\n",
    "!pip install Theano==0.8.2\n",
    "!pip install Werkzeug==0.11.15\n",
    "!pip install gunicorn==19.6.0"
   ]
  },
  {
   "cell_type": "code",
   "execution_count": 6,
   "metadata": {},
   "outputs": [
    {
     "name": "stderr",
     "output_type": "stream",
     "text": [
      "Using TensorFlow backend.\n"
     ]
    }
   ],
   "source": [
    "from keras.preprocessing.image import ImageDataGenerator, array_to_img, img_to_array, load_img\n",
    "from keras.models import Sequential\n",
    "from keras.layers import Conv2D, MaxPooling2D\n",
    "from keras.layers import Activation, Dropout, Flatten, Dense\n",
    "from keras import backend as K"
   ]
  },
  {
   "cell_type": "markdown",
   "metadata": {},
   "source": [
    "## Data Preparation"
   ]
  },
  {
   "cell_type": "markdown",
   "metadata": {},
   "source": [
    "The data comes in the followinf structure:\n",
    "\n",
    "data/ <br />\n",
    "--train/<br />\n",
    "--- dogs/<br />\n",
    "----- dog.001.jpg<br />\n",
    "----- dog.002.jpg<br />\n",
    "----- ...<br />\n",
    "--- cats/<br />\n",
    "----- cat.001.jpg<br />\n",
    "----- cat.002.jpg<br />\n",
    "----- ...<br />\n",
    "-- validation/<br />\n",
    "--- dogs/<br />\n",
    "----- dog.001.jpg<br />\n",
    "----- dog.002.jpg<br />\n",
    "----- ...<br />\n",
    "--- cats/<br />\n",
    "----- cat.001.jpg<br />\n",
    "----- cat.002.jpg<br />\n",
    "----- ...<br />\n",
    "\n",
    "We have to load it from a GCP bucket."
   ]
  },
  {
   "cell_type": "code",
   "execution_count": 13,
   "metadata": {},
   "outputs": [
    {
     "ename": "FileNotFoundError",
     "evalue": "[Errno 2] No such file or directory: 'https://console.cloud.google.com/storage/browser/small-image-classifier/'",
     "output_type": "error",
     "traceback": [
      "\u001b[0;31m---------------------------------------------------------------------------\u001b[0m",
      "\u001b[0;31mFileNotFoundError\u001b[0m                         Traceback (most recent call last)",
      "\u001b[0;32m<ipython-input-13-a4458be2a8fb>\u001b[0m in \u001b[0;36m<module>\u001b[0;34m()\u001b[0m\n\u001b[0;32m----> 1\u001b[0;31m \u001b[0mos\u001b[0m\u001b[0;34m.\u001b[0m\u001b[0mlistdir\u001b[0m\u001b[0;34m(\u001b[0m\u001b[0;34m\"https://console.cloud.google.com/storage/browser/small-image-classifier/\"\u001b[0m\u001b[0;34m)\u001b[0m\u001b[0;34m\u001b[0m\u001b[0m\n\u001b[0m",
      "\u001b[0;31mFileNotFoundError\u001b[0m: [Errno 2] No such file or directory: 'https://console.cloud.google.com/storage/browser/small-image-classifier/'"
     ]
    }
   ],
   "source": [
    "os.listdir(\"gs://small-image-classifier\")"
   ]
  }
 ],
 "metadata": {
  "kernelspec": {
   "display_name": "Python 3",
   "language": "python",
   "name": "python3"
  },
  "language_info": {
   "codemirror_mode": {
    "name": "ipython",
    "version": 3
   },
   "file_extension": ".py",
   "mimetype": "text/x-python",
   "name": "python",
   "nbconvert_exporter": "python",
   "pygments_lexer": "ipython3",
   "version": "3.5.6"
  }
 },
 "nbformat": 4,
 "nbformat_minor": 2
}
