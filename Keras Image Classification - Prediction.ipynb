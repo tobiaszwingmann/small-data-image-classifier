{
 "cells": [
  {
   "cell_type": "markdown",
   "metadata": {},
   "source": [
    "# Keras Image Classification Predictor"
   ]
  },
  {
   "cell_type": "code",
   "execution_count": 1,
   "metadata": {},
   "outputs": [
    {
     "name": "stdout",
     "output_type": "stream",
     "text": [
      "Requirement already satisfied: Keras==2.2.0 in /usr/local/envs/py3env/lib/python3.5/site-packages (2.2.0)\n",
      "Requirement already satisfied: numpy>=1.9.1 in /usr/local/envs/py3env/lib/python3.5/site-packages (from Keras==2.2.0) (1.14.0)\n",
      "Requirement already satisfied: keras-preprocessing==1.0.1 in /usr/local/envs/py3env/lib/python3.5/site-packages (from Keras==2.2.0) (1.0.1)\n",
      "Requirement already satisfied: keras-applications==1.0.2 in /usr/local/envs/py3env/lib/python3.5/site-packages (from Keras==2.2.0) (1.0.2)\n",
      "Requirement already satisfied: pyyaml in /usr/local/envs/py3env/lib/python3.5/site-packages (from Keras==2.2.0) (3.13)\n",
      "Requirement already satisfied: scipy>=0.14 in /usr/local/envs/py3env/lib/python3.5/site-packages (from Keras==2.2.0) (1.0.0)\n",
      "Requirement already satisfied: h5py in /usr/local/envs/py3env/lib/python3.5/site-packages (from Keras==2.2.0) (2.7.1)\n",
      "Requirement already satisfied: six>=1.9.0 in /usr/local/envs/py3env/lib/python3.5/site-packages (from Keras==2.2.0) (1.10.0)\n"
     ]
    }
   ],
   "source": [
    "!pip install Keras==2.2.0"
   ]
  },
  {
   "cell_type": "code",
   "execution_count": 2,
   "metadata": {},
   "outputs": [
    {
     "name": "stderr",
     "output_type": "stream",
     "text": [
      "/usr/local/envs/py3env/lib/python3.5/site-packages/h5py/__init__.py:36: FutureWarning: Conversion of the second argument of issubdtype from `float` to `np.floating` is deprecated. In future, it will be treated as `np.float64 == np.dtype(float).type`.\n",
      "  from ._conv import register_converters as _register_converters\n",
      "Using TensorFlow backend.\n"
     ]
    }
   ],
   "source": [
    "import os\n",
    "import keras"
   ]
  },
  {
   "cell_type": "code",
   "execution_count": 3,
   "metadata": {},
   "outputs": [],
   "source": [
    "img_width, img_height = 150, 150\n",
    "predict_data_dir = \"../data/predictions/\"\n",
    "nb_predict_samples = len(os.listdir(predict_data_dir))\n",
    "input_shape = (img_width, img_height, 3)\n",
    "batch_size = 1"
   ]
  },
  {
   "cell_type": "markdown",
   "metadata": {},
   "source": [
    "Make sure the directory with new data exists"
   ]
  },
  {
   "cell_type": "code",
   "execution_count": 28,
   "metadata": {},
   "outputs": [
    {
     "name": "stdout",
     "output_type": "stream",
     "text": [
      "['1.jpg', '2.jpg', '3.jpg', '4.jpg', '5.png', '6.jpg', '7.jpg']\n"
     ]
    }
   ],
   "source": [
    "print(sorted(os.listdir(predict_data_dir)))"
   ]
  },
  {
   "cell_type": "markdown",
   "metadata": {},
   "source": [
    "## Model 1 (trained from scratch)"
   ]
  },
  {
   "cell_type": "code",
   "execution_count": 30,
   "metadata": {},
   "outputs": [
    {
     "name": "stdout",
     "output_type": "stream",
     "text": [
      "[[1.]]\n",
      "[[0.]]\n",
      "[[1.]]\n",
      "[[0.]]\n",
      "[[0.]]\n",
      "[[0.]]\n",
      "[[1.]]\n"
     ]
    }
   ],
   "source": [
    "model_1 = keras.models.load_model(\"model_1.h5\")\n",
    "\n",
    "for i in sorted(os.listdir(predict_data_dir)):\n",
    "  img = keras.preprocessing.image.load_img(predict_data_dir+i)  # this is a PIL image\n",
    "  img = img.resize((img_width, img_height))\n",
    "  x = keras.preprocessing.image.img_to_array(img)  # this is a Numpy array with shape (3, 150, 150)\n",
    "  x = x.reshape((1,) + x.shape)  # this is a Numpy array with shape (1, 3, 150, 150)\n",
    "  print(model_1.predict(x))"
   ]
  },
  {
   "cell_type": "markdown",
   "metadata": {},
   "source": [
    "3 of 7 images were classified correctly. (43% accuracy)"
   ]
  },
  {
   "cell_type": "markdown",
   "metadata": {},
   "source": [
    "## Model 2 (fine-tuned)"
   ]
  },
  {
   "cell_type": "code",
   "execution_count": 31,
   "metadata": {},
   "outputs": [
    {
     "name": "stdout",
     "output_type": "stream",
     "text": [
      "[[0.]]\n",
      "[[0.]]\n",
      "[[0.]]\n",
      "[[0.]]\n",
      "[[1.]]\n",
      "[[1.]]\n",
      "[[1.]]\n"
     ]
    }
   ],
   "source": [
    "model_2 = keras.models.load_model(\"model_2.h5\")\n",
    "\n",
    "for i in sorted(os.listdir(predict_data_dir)):\n",
    "  img = keras.preprocessing.image.load_img(predict_data_dir+i)  # this is a PIL image\n",
    "  img = img.resize((img_width, img_height))\n",
    "  x = keras.preprocessing.image.img_to_array(img)  # this is a Numpy array with shape (3, 150, 150)\n",
    "  x = x.reshape((1,) + x.shape)  # this is a Numpy array with shape (1, 3, 150, 150)\n",
    "  # Apply VGG16 model first. Tip: Use functional API.\n",
    "  model = keras.applications.VGG16(include_top=False, weights='imagenet')\n",
    "  x_bottleneck = model.predict(x)\n",
    "  print(model_2.predict(x_bottleneck))\n",
    "  "
   ]
  },
  {
   "cell_type": "markdown",
   "metadata": {},
   "source": [
    "All images were classified correctly"
   ]
  }
 ],
 "metadata": {
  "kernelspec": {
   "display_name": "Python 3",
   "language": "python",
   "name": "python3"
  },
  "language_info": {
   "codemirror_mode": {
    "name": "ipython",
    "version": 3
   },
   "file_extension": ".py",
   "mimetype": "text/x-python",
   "name": "python",
   "nbconvert_exporter": "python",
   "pygments_lexer": "ipython3",
   "version": "3.5.6"
  }
 },
 "nbformat": 4,
 "nbformat_minor": 2
}
